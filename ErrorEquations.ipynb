{
 "cells": [
  {
   "cell_type": "code",
   "execution_count": 15,
   "id": "0b1eabc0-eca6-445c-bfc6-bd90c6f35f1e",
   "metadata": {},
   "outputs": [
    {
     "name": "stdout",
     "output_type": "stream",
     "text": [
      "The average is 1.1166666666666667. The standard deviation is 0.17950549357115014.\n"
     ]
    }
   ],
   "source": [
    "import numpy as np\n",
    "from IPython.display import display, Math, Latex\n",
    "\n",
    "#error propagation\n",
    "def ruleOne(q, error_a, a):\n",
    "    error_q = (error_a * q)/a \n",
    "    return error_q\n",
    "    \n",
    "#c is a constant with negligible fractional error\n",
    "#m is some power (positive, negative, integer, or fraction)\n",
    "def ruleTwo(c, m, a, error_a):\n",
    "    error_q = (c * m * np.power(a, m - 1) * error_a)\n",
    "    return error_q\n",
    "    \n",
    "#if Q = A + B or Q = A − B\n",
    "def ruleThree(error_a, error_b):\n",
    "    error_q = np.sqrt(np.power(error_a, 2) + np.power(error_b, 2))\n",
    "    return error_q\n",
    "    \n",
    "#If Q = c*A^m*B^n where m and n are powers\n",
    "def ruleFour(q, m, n, error_a, a, error_b, b):\n",
    "    error_q = q * np.sqrt(np.power((m * error_a)/a, 2) + (np.power((n * error_b)/b, 2)))\n",
    "    return error_q\n",
    "\n",
    "x = 1.1, 1.3, 1.4, 0.9, 0.95, 1.05\n",
    "print(\"The average is \" + str(np.average(x)) + \".\" + \" The standard deviation is \" + str(np.std(x)) + \".\")"
   ]
  },
  {
   "cell_type": "markdown",
   "id": "56d5b9f6-db69-4fb7-938a-6294995ca007",
   "metadata": {},
   "source": [
    "$$\\delta Q = \\sqrt{(\\delta A)^2 + (\\delta B)^2}$$\n",
    "$$\\delta v = \\sqrt{\\frac{\\delta A}{A} + \\frac{\\delta B}{B}}$$"
   ]
  },
  {
   "cell_type": "code",
   "execution_count": null,
   "id": "c9a6eefb-83b0-4972-b7a8-1820677cae74",
   "metadata": {},
   "outputs": [],
   "source": []
  }
 ],
 "metadata": {
  "kernelspec": {
   "display_name": "Python 3 (ipykernel)",
   "language": "python",
   "name": "python3"
  },
  "language_info": {
   "codemirror_mode": {
    "name": "ipython",
    "version": 3
   },
   "file_extension": ".py",
   "mimetype": "text/x-python",
   "name": "python",
   "nbconvert_exporter": "python",
   "pygments_lexer": "ipython3",
   "version": "3.7.9"
  }
 },
 "nbformat": 4,
 "nbformat_minor": 5
}
